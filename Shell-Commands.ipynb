{
 "cells": [
  {
   "cell_type": "markdown",
   "metadata": {},
   "source": [
    "### Shell Commands ( Bash)\n"
   ]
  },
  {
   "cell_type": "markdown",
   "metadata": {},
   "source": [
    "Install Gitbash"
   ]
  },
  {
   "cell_type": "code",
   "execution_count": 6,
   "metadata": {},
   "outputs": [
    {
     "name": "stdout",
     "output_type": "stream",
     "text": [
      "Hello, Shello  \n"
     ]
    }
   ],
   "source": [
    "# To print\n",
    "\n",
    "! echo Hello, Shello  "
   ]
  },
  {
   "cell_type": "markdown",
   "metadata": {},
   "source": [
    "\n",
    "-  ls :- List\n",
    "-  ls -l :- Details of List\n",
    "-  cd :- Change Directory\n",
    "-  cd.. :- Back directory\n",
    "-  pwd :- Print working Directory\n",
    "-  mkdir :- Make Directory\n",
    "-  mv :- Move from to\n",
    "-  curl :- See URL ( Code of webpage) ((curl 'https://www. com)\n",
    "-  cat :- catenate or concatenate\n",
    "-  rm :- Remove\n",
    "-  rmdir :- Remove Directory\n",
    "-  grep :- Search the file\n",
    "-  alias :-\n",
    "-  PS1 :- Controlling the Shell prompt\n",
    "-  .bash profile"
   ]
  },
  {
   "cell_type": "code",
   "execution_count": null,
   "metadata": {},
   "outputs": [],
   "source": []
  }
 ],
 "metadata": {
  "kernelspec": {
   "display_name": "Python 3",
   "language": "python",
   "name": "python3"
  },
  "language_info": {
   "codemirror_mode": {
    "name": "ipython",
    "version": 3
   },
   "file_extension": ".py",
   "mimetype": "text/x-python",
   "name": "python",
   "nbconvert_exporter": "python",
   "pygments_lexer": "ipython3",
   "version": "3.6.5"
  }
 },
 "nbformat": 4,
 "nbformat_minor": 2
}
